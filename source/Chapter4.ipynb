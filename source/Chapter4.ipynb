{
 "cells": [
  {
   "cell_type": "code",
   "execution_count": 6,
   "metadata": {
    "collapsed": true
   },
   "outputs": [],
   "source": [
    "# 二つのsortされた配列を統合\n",
    "def merge_(left, right=[]):\n",
    "    res = []\n",
    "    \n",
    "    left_num = len(left)\n",
    "    right_num = len(right)\n",
    "    i, j = 0, 0\n",
    "    # どちらかの配列を調べ尽くしたらそこで終了\n",
    "    while i < left_num and j < right_num:\n",
    "        if left[i] <= right[j]:\n",
    "            res.append(left[i])\n",
    "            i += 1\n",
    "        else:\n",
    "            res.append(right[j])\n",
    "            j += 1\n",
    "    # 残りを後ろに連結\n",
    "    return res + left[i:] + right[j:]"
   ]
  },
  {
   "cell_type": "code",
   "execution_count": 7,
   "metadata": {},
   "outputs": [
    {
     "data": {
      "text/plain": [
       "[1, 2, 3, 4, 5, 6, 8, 10]"
      ]
     },
     "execution_count": 7,
     "metadata": {},
     "output_type": "execute_result"
    }
   ],
   "source": [
    "merge_([1, 3, 5], [2, 4, 6, 8, 10])"
   ]
  },
  {
   "cell_type": "code",
   "execution_count": 46,
   "metadata": {
    "collapsed": true
   },
   "outputs": [],
   "source": [
    "# 与えられた配列を細かく分割していき，1つの数にすれば，\n",
    "# これを二つセットにしてマージへの入力とすることができる\n",
    "\n",
    "# 配列の要素を2つずつ取ってきてマージする関数\n",
    "def step_(array_):\n",
    "    res = []\n",
    "    for i in range(0, len(array_), 2):\n",
    "        if i+1 < len(array_): \n",
    "            if type(array_[i]) != list:\n",
    "                l_ = [array_[i]]\n",
    "            else:\n",
    "                l_ = array_[i]\n",
    "            if type(array_[i+1]) != list:\n",
    "                r_ = [array_[i+1]]\n",
    "            else:\n",
    "                r_ = array_[i+1]\n",
    "            res.append(merge_(l_, r_))\n",
    "        else:\n",
    "            if type(array_[i]) != list:\n",
    "                l_ = [array_[i]]\n",
    "            else:\n",
    "                l_ = array_[i]\n",
    "            res.append(merge_(l_, []))\n",
    "    return res"
   ]
  },
  {
   "cell_type": "code",
   "execution_count": null,
   "metadata": {},
   "outputs": [],
   "source": []
  },
  {
   "cell_type": "code",
   "execution_count": 47,
   "metadata": {},
   "outputs": [
    {
     "name": "stdout",
     "output_type": "stream",
     "text": [
      "5\n"
     ]
    }
   ],
   "source": [
    "array_ = [1, 2, 3, 4, 5]\n",
    "print(*array_[4:6])"
   ]
  },
  {
   "cell_type": "code",
   "execution_count": 51,
   "metadata": {},
   "outputs": [
    {
     "name": "stdout",
     "output_type": "stream",
     "text": [
      "[[1, 2], [3, 7], [5, 6], [8, 11], [10, 17], [13]]\n",
      "[[1, 2, 3, 7], [5, 6, 8, 11], [10, 13, 17]]\n",
      "[[1, 2, 3, 5, 6, 7, 8, 11], [10, 13, 17]]\n",
      "[1, 2, 3, 5, 6, 7, 8, 10, 11, 13, 17]\n"
     ]
    }
   ],
   "source": [
    "arr_ = [1, 2, 3, 7, 6, 5, 8, 11, 10, 17, 13]\n",
    "s = step_(arr_)\n",
    "print(s)\n",
    "s = step_(s)\n",
    "print(s)\n",
    "s = step_(s)\n",
    "print(s)\n",
    "s = step_(s)\n",
    "print(s[0])"
   ]
  },
  {
   "cell_type": "code",
   "execution_count": 45,
   "metadata": {},
   "outputs": [
    {
     "data": {
      "text/plain": [
       "True"
      ]
     },
     "execution_count": 45,
     "metadata": {},
     "output_type": "execute_result"
    }
   ],
   "source": [
    "type(arr_) == list"
   ]
  },
  {
   "cell_type": "code",
   "execution_count": 52,
   "metadata": {
    "collapsed": true
   },
   "outputs": [],
   "source": [
    "def merge_arrays(left, right=[]):\n",
    "    res = []\n",
    "    i, j = 0, 0\n",
    "    n, m = len(left), len(right)\n",
    "    while i < n and j < m:\n",
    "        if left[i] < right[j]:\n",
    "            res.append(left[i])\n",
    "            i += 1\n",
    "        else:\n",
    "            res.append(right[j])\n",
    "            j += 1\n",
    "    return res + left[i:] + right[j:]"
   ]
  },
  {
   "cell_type": "code",
   "execution_count": 53,
   "metadata": {
    "collapsed": true
   },
   "outputs": [],
   "source": [
    "def step(array):\n",
    "    res = []\n",
    "    for i in range(0, len(array), 2):\n",
    "        res.append(merge_arrays(*array[i:i+2]))\n",
    "    return res"
   ]
  },
  {
   "cell_type": "code",
   "execution_count": 56,
   "metadata": {},
   "outputs": [
    {
     "name": "stdout",
     "output_type": "stream",
     "text": [
      "[[30, 38], [13, 92], [50, 61], [11, 19], [2, 8], [51, 70], [37, 97], [7]]\n"
     ]
    }
   ],
   "source": [
    "import random\n",
    "\n",
    "random.seed(4)\n",
    "\n",
    "my_array = [random.randint(0, 100) for i in range(15)]\n",
    "my_array = [[v] for v in my_array]\n",
    "\n",
    "step1 = step(my_array)\n",
    "print(step1)"
   ]
  },
  {
   "cell_type": "code",
   "execution_count": 57,
   "metadata": {},
   "outputs": [
    {
     "name": "stdout",
     "output_type": "stream",
     "text": [
      "[[13, 30, 38, 92], [11, 19, 50, 61], [2, 8, 51, 70], [7, 37, 97]]\n"
     ]
    }
   ],
   "source": [
    "step2 = step(step1)\n",
    "print(step2)"
   ]
  },
  {
   "cell_type": "code",
   "execution_count": 64,
   "metadata": {
    "collapsed": true
   },
   "outputs": [],
   "source": [
    "def merge_sort_(arr):\n",
    "    res = [[v] for v in arr]\n",
    "    while len(res[0]) != len(arr):\n",
    "        res = step(res)\n",
    "    return res[0]"
   ]
  },
  {
   "cell_type": "code",
   "execution_count": 66,
   "metadata": {},
   "outputs": [
    {
     "data": {
      "text/plain": [
       "[3, 13, 22, 24, 27, 28, 33, 33, 34, 35, 46, 66, 68, 82, 99]"
      ]
     },
     "execution_count": 66,
     "metadata": {},
     "output_type": "execute_result"
    }
   ],
   "source": [
    "my_array = [random.randint(0, 100) for i in range(15)]\n",
    "merge_sort_(my_array)"
   ]
  },
  {
   "cell_type": "code",
   "execution_count": 71,
   "metadata": {
    "collapsed": true
   },
   "outputs": [],
   "source": [
    "def merge_sort(arr):\n",
    "    if len(arr) <=1:\n",
    "        return arr\n",
    "    \n",
    "    mid_idx = len(arr) // 2\n",
    "    left = arr[:mid_idx]\n",
    "    right = arr[mid_idx:]\n",
    "    return merge_arrays(merge_sort(left), merge_sort(right))"
   ]
  },
  {
   "cell_type": "code",
   "execution_count": 72,
   "metadata": {},
   "outputs": [
    {
     "data": {
      "text/plain": [
       "[3, 13, 22, 24, 27, 28, 33, 33, 34, 35, 46, 66, 68, 82, 99]"
      ]
     },
     "execution_count": 72,
     "metadata": {},
     "output_type": "execute_result"
    }
   ],
   "source": [
    "merge_sort(my_array)"
   ]
  },
  {
   "cell_type": "code",
   "execution_count": 73,
   "metadata": {
    "collapsed": true
   },
   "outputs": [],
   "source": [
    "# quick sort\n",
    "def quick_sort(array):\n",
    "    if array == []:\n",
    "        return array\n",
    "    \n",
    "    p = array[-1]\n",
    "    left = []\n",
    "    right = []\n",
    "    pivots = []\n",
    "    \n",
    "    for v in array:\n",
    "        if v < p:\n",
    "            left.append(v)\n",
    "        elif v == p:\n",
    "            pivots.append(v)\n",
    "        else:\n",
    "            right.append(v)\n",
    "    return quick_sort(left) + pivots + quick_sort(right)"
   ]
  },
  {
   "cell_type": "code",
   "execution_count": 74,
   "metadata": {},
   "outputs": [
    {
     "data": {
      "text/plain": [
       "[3, 13, 22, 24, 27, 28, 33, 33, 34, 35, 46, 66, 68, 82, 99]"
      ]
     },
     "execution_count": 74,
     "metadata": {},
     "output_type": "execute_result"
    }
   ],
   "source": [
    "quick_sort(my_array)"
   ]
  },
  {
   "cell_type": "code",
   "execution_count": 75,
   "metadata": {
    "collapsed": true
   },
   "outputs": [],
   "source": [
    "sample_data = []\n",
    "for i in range(100):\n",
    "    sample_data.append([random.randint(0, 5000) for i in range(2000)])"
   ]
  },
  {
   "cell_type": "code",
   "execution_count": 77,
   "metadata": {},
   "outputs": [],
   "source": [
    "# sample_data"
   ]
  },
  {
   "cell_type": "code",
   "execution_count": 78,
   "metadata": {
    "collapsed": true
   },
   "outputs": [],
   "source": [
    "import time\n",
    "\n",
    "def performance_check(method, data, num=3):\n",
    "    s = time.time()\n",
    "    for i in range(num):\n",
    "        for v in data: method(v)\n",
    "    e = time.time()\n",
    "    return e - s"
   ]
  },
  {
   "cell_type": "code",
   "execution_count": 79,
   "metadata": {},
   "outputs": [
    {
     "data": {
      "text/plain": [
       "2.7669241428375244"
      ]
     },
     "execution_count": 79,
     "metadata": {},
     "output_type": "execute_result"
    }
   ],
   "source": [
    "performance_check(merge_sort, sample_data)"
   ]
  },
  {
   "cell_type": "code",
   "execution_count": 80,
   "metadata": {},
   "outputs": [
    {
     "data": {
      "text/plain": [
       "1.6206133365631104"
      ]
     },
     "execution_count": 80,
     "metadata": {},
     "output_type": "execute_result"
    }
   ],
   "source": [
    "performance_check(quick_sort, sample_data)"
   ]
  },
  {
   "cell_type": "code",
   "execution_count": 81,
   "metadata": {
    "collapsed": true
   },
   "outputs": [],
   "source": [
    "sorted_data = []\n",
    "for i in range(100):\n",
    "    sorted_data.append(sorted([random.randint(0, 5000) for i in range(2000)]))"
   ]
  },
  {
   "cell_type": "code",
   "execution_count": 82,
   "metadata": {},
   "outputs": [
    {
     "data": {
      "text/plain": [
       "2.0567212104797363"
      ]
     },
     "execution_count": 82,
     "metadata": {},
     "output_type": "execute_result"
    }
   ],
   "source": [
    "performance_check(merge_sort, sorted_data)"
   ]
  },
  {
   "cell_type": "code",
   "execution_count": 83,
   "metadata": {},
   "outputs": [
    {
     "data": {
      "text/plain": [
       "73.11127305030823"
      ]
     },
     "execution_count": 83,
     "metadata": {},
     "output_type": "execute_result"
    }
   ],
   "source": [
    "performance_check(quick_sort, sorted_data)"
   ]
  },
  {
   "cell_type": "code",
   "execution_count": 84,
   "metadata": {
    "collapsed": true
   },
   "outputs": [],
   "source": [
    "# randomized pivot quick sort\n",
    "\n",
    "import random\n",
    "\n",
    "def quick_sort(array):\n",
    "    if not array:\n",
    "        return array\n",
    "    \n",
    "    pivot = random.choice(array)\n",
    "    left = []\n",
    "    right = []\n",
    "    pivots = []\n",
    "    \n",
    "    for v in array:\n",
    "        if v < pivot:\n",
    "            left.append(v)\n",
    "        elif v == pivot:\n",
    "            pivots.append(v)\n",
    "        else:\n",
    "            right.append(v)\n",
    "    return quick_sort(left) + pivots + quick_sort(right)"
   ]
  },
  {
   "cell_type": "code",
   "execution_count": 85,
   "metadata": {},
   "outputs": [
    {
     "data": {
      "text/plain": [
       "2.3427398204803467"
      ]
     },
     "execution_count": 85,
     "metadata": {},
     "output_type": "execute_result"
    }
   ],
   "source": [
    "performance_check(quick_sort, sorted_data)"
   ]
  },
  {
   "cell_type": "markdown",
   "metadata": {},
   "source": [
    "4.3"
   ]
  },
  {
   "cell_type": "code",
   "execution_count": 86,
   "metadata": {
    "collapsed": true
   },
   "outputs": [],
   "source": [
    "def is_sorted(array):\n",
    "    n = len(array)\n",
    "    if n == 0:\n",
    "        return True\n",
    "    for i in range(1, n):\n",
    "        if array[i-1] > array[i]:\n",
    "            return False\n",
    "    return True"
   ]
  },
  {
   "cell_type": "code",
   "execution_count": 87,
   "metadata": {},
   "outputs": [
    {
     "data": {
      "text/plain": [
       "True"
      ]
     },
     "execution_count": 87,
     "metadata": {},
     "output_type": "execute_result"
    }
   ],
   "source": [
    "is_sorted([1, 2, 3, 3, 4])"
   ]
  },
  {
   "cell_type": "code",
   "execution_count": 88,
   "metadata": {},
   "outputs": [
    {
     "data": {
      "text/plain": [
       "False"
      ]
     },
     "execution_count": 88,
     "metadata": {},
     "output_type": "execute_result"
    }
   ],
   "source": [
    "is_sorted([1, 2, 5, 3, 4])"
   ]
  },
  {
   "cell_type": "code",
   "execution_count": 93,
   "metadata": {
    "collapsed": true
   },
   "outputs": [],
   "source": [
    "def is_sorted(array):\n",
    "    n = len(array)\n",
    "    res = [array[i] <= array[i+1] for i in range(n-1)]\n",
    "    return all(res)"
   ]
  },
  {
   "cell_type": "code",
   "execution_count": 94,
   "metadata": {},
   "outputs": [
    {
     "data": {
      "text/plain": [
       "True"
      ]
     },
     "execution_count": 94,
     "metadata": {},
     "output_type": "execute_result"
    }
   ],
   "source": [
    "is_sorted([1, 2, 3, 3, 4])"
   ]
  },
  {
   "cell_type": "code",
   "execution_count": 95,
   "metadata": {},
   "outputs": [
    {
     "data": {
      "text/plain": [
       "False"
      ]
     },
     "execution_count": 95,
     "metadata": {},
     "output_type": "execute_result"
    }
   ],
   "source": [
    "is_sorted([1, 2, 4, 3, 5])"
   ]
  },
  {
   "cell_type": "code",
   "execution_count": 96,
   "metadata": {
    "collapsed": true
   },
   "outputs": [],
   "source": [
    "def is_sorted(array):\n",
    "    return sorted(array) == array"
   ]
  },
  {
   "cell_type": "code",
   "execution_count": 97,
   "metadata": {},
   "outputs": [
    {
     "data": {
      "text/plain": [
       "True"
      ]
     },
     "execution_count": 97,
     "metadata": {},
     "output_type": "execute_result"
    }
   ],
   "source": [
    "is_sorted([1, 2, 3, 3, 4])"
   ]
  },
  {
   "cell_type": "code",
   "execution_count": 98,
   "metadata": {},
   "outputs": [
    {
     "data": {
      "text/plain": [
       "False"
      ]
     },
     "execution_count": 98,
     "metadata": {},
     "output_type": "execute_result"
    }
   ],
   "source": [
    "is_sorted([1, 2, 5, 3, 2])"
   ]
  },
  {
   "cell_type": "code",
   "execution_count": 103,
   "metadata": {
    "collapsed": true
   },
   "outputs": [],
   "source": [
    "import random\n",
    "\n",
    "def rand_str(n):\n",
    "    alphabet = 'abcdefghijklmnopqrstuvwxyz'\n",
    "    selected = random.sample(alphabet, n)\n",
    "    return ''.join(selected)"
   ]
  },
  {
   "cell_type": "code",
   "execution_count": 104,
   "metadata": {},
   "outputs": [
    {
     "data": {
      "text/plain": [
       "'lvg'"
      ]
     },
     "execution_count": 104,
     "metadata": {},
     "output_type": "execute_result"
    }
   ],
   "source": [
    "rand_str(3)"
   ]
  },
  {
   "cell_type": "code",
   "execution_count": 112,
   "metadata": {},
   "outputs": [],
   "source": [
    "def make_(list_length):\n",
    "    res = []\n",
    "    for i in range(list_length):\n",
    "        n = random.randint(1, 10)\n",
    "        res.append(rand_str(n))\n",
    "    return res"
   ]
  },
  {
   "cell_type": "code",
   "execution_count": 114,
   "metadata": {},
   "outputs": [],
   "source": [
    "a = make_(20)"
   ]
  },
  {
   "cell_type": "code",
   "execution_count": 115,
   "metadata": {},
   "outputs": [
    {
     "data": {
      "text/plain": [
       "['aevxtihm',\n",
       " 'icb',\n",
       " 'iucdw',\n",
       " 'juqsr',\n",
       " 'k',\n",
       " 'kzxq',\n",
       " 'ofiwu',\n",
       " 'oimn',\n",
       " 'skivwo',\n",
       " 'te',\n",
       " 'twnzbuy',\n",
       " 'vj',\n",
       " 'vtr',\n",
       " 'w',\n",
       " 'wxhipt',\n",
       " 'yf',\n",
       " 'yfck',\n",
       " 'yoqjpnmb',\n",
       " 'z',\n",
       " 'zckdbh']"
      ]
     },
     "execution_count": 115,
     "metadata": {},
     "output_type": "execute_result"
    }
   ],
   "source": [
    "sorted(a)"
   ]
  },
  {
   "cell_type": "code",
   "execution_count": 120,
   "metadata": {},
   "outputs": [],
   "source": [
    "def sort_(a):\n",
    "    a_n = [len(v) for v in a]\n",
    "    sorted_a_n = sorted(a_n)\n",
    "    idx = []\n",
    "    res = []\n",
    "    for v in sorted_a_n:\n",
    "        for i in range(len(a_n)):\n",
    "            if v == a_n[i]:\n",
    "                if i in idx:\n",
    "                    continue\n",
    "                idx.append(i)\n",
    "                res.append(a[i])\n",
    "    \n",
    "    return res"
   ]
  },
  {
   "cell_type": "code",
   "execution_count": 121,
   "metadata": {},
   "outputs": [
    {
     "data": {
      "text/plain": [
       "['z',\n",
       " 'k',\n",
       " 'w',\n",
       " 'vj',\n",
       " 'te',\n",
       " 'yf',\n",
       " 'icb',\n",
       " 'vtr',\n",
       " 'oimn',\n",
       " 'kzxq',\n",
       " 'yfck',\n",
       " 'juqsr',\n",
       " 'ofiwu',\n",
       " 'iucdw',\n",
       " 'zckdbh',\n",
       " 'skivwo',\n",
       " 'wxhipt',\n",
       " 'twnzbuy',\n",
       " 'aevxtihm',\n",
       " 'yoqjpnmb']"
      ]
     },
     "execution_count": 121,
     "metadata": {},
     "output_type": "execute_result"
    }
   ],
   "source": [
    "sort_(a)"
   ]
  },
  {
   "cell_type": "code",
   "execution_count": 122,
   "metadata": {},
   "outputs": [
    {
     "data": {
      "text/plain": [
       "['z',\n",
       " 'k',\n",
       " 'w',\n",
       " 'vj',\n",
       " 'te',\n",
       " 'yf',\n",
       " 'icb',\n",
       " 'vtr',\n",
       " 'oimn',\n",
       " 'kzxq',\n",
       " 'yfck',\n",
       " 'juqsr',\n",
       " 'ofiwu',\n",
       " 'iucdw',\n",
       " 'zckdbh',\n",
       " 'skivwo',\n",
       " 'wxhipt',\n",
       " 'twnzbuy',\n",
       " 'aevxtihm',\n",
       " 'yoqjpnmb']"
      ]
     },
     "execution_count": 122,
     "metadata": {},
     "output_type": "execute_result"
    }
   ],
   "source": [
    "sorted(a, key=lambda x: len(x))"
   ]
  },
  {
   "cell_type": "code",
   "execution_count": null,
   "metadata": {
    "collapsed": true
   },
   "outputs": [],
   "source": []
  }
 ],
 "metadata": {
  "kernelspec": {
   "display_name": "Python 3",
   "language": "python",
   "name": "python3"
  },
  "language_info": {
   "codemirror_mode": {
    "name": "ipython",
    "version": 3
   },
   "file_extension": ".py",
   "mimetype": "text/x-python",
   "name": "python",
   "nbconvert_exporter": "python",
   "pygments_lexer": "ipython3",
   "version": "3.6.8"
  }
 },
 "nbformat": 4,
 "nbformat_minor": 2
}
